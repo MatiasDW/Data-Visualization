{
 "cells": [
  {
   "cell_type": "code",
   "execution_count": 1,
   "id": "f89dba03-7d5f-4439-a37b-a17e1221d4d5",
   "metadata": {},
   "outputs": [
    {
     "ename": "NameError",
     "evalue": "name 'STOPWORDS' is not defined",
     "output_type": "error",
     "traceback": [
      "\u001b[1;31m---------------------------------------------------------------------------\u001b[0m",
      "\u001b[1;31mNameError\u001b[0m                                 Traceback (most recent call last)",
      "Cell \u001b[1;32mIn[1], line 53\u001b[0m\n\u001b[0;32m     50\u001b[0m samsung_text \u001b[38;5;241m=\u001b[39m \u001b[38;5;124m'\u001b[39m\u001b[38;5;124m \u001b[39m\u001b[38;5;124m'\u001b[39m\u001b[38;5;241m.\u001b[39mjoin(samsung_reviews)\n\u001b[0;32m     51\u001b[0m sony_text \u001b[38;5;241m=\u001b[39m \u001b[38;5;124m'\u001b[39m\u001b[38;5;124m \u001b[39m\u001b[38;5;124m'\u001b[39m\u001b[38;5;241m.\u001b[39mjoin(sony_reviews)\n\u001b[1;32m---> 53\u001b[0m \u001b[43mgenerate_wordcloud\u001b[49m\u001b[43m(\u001b[49m\u001b[43msamsung_text\u001b[49m\u001b[43m)\u001b[49m\n\u001b[0;32m     54\u001b[0m generate_wordcloud(sony_text)\n",
      "Cell \u001b[1;32mIn[1], line 40\u001b[0m, in \u001b[0;36mgenerate_wordcloud\u001b[1;34m(text)\u001b[0m\n\u001b[0;32m     37\u001b[0m \u001b[38;5;28;01mdef\u001b[39;00m \u001b[38;5;21mgenerate_wordcloud\u001b[39m(text):\n\u001b[0;32m     38\u001b[0m     wordcloud \u001b[38;5;241m=\u001b[39m WordCloud(width \u001b[38;5;241m=\u001b[39m \u001b[38;5;241m800\u001b[39m, height \u001b[38;5;241m=\u001b[39m \u001b[38;5;241m800\u001b[39m, \n\u001b[0;32m     39\u001b[0m                 background_color \u001b[38;5;241m=\u001b[39m\u001b[38;5;124m'\u001b[39m\u001b[38;5;124mwhite\u001b[39m\u001b[38;5;124m'\u001b[39m, \n\u001b[1;32m---> 40\u001b[0m                 stopwords \u001b[38;5;241m=\u001b[39m \u001b[38;5;28mset\u001b[39m(\u001b[43mSTOPWORDS\u001b[49m), \n\u001b[0;32m     41\u001b[0m                 min_font_size \u001b[38;5;241m=\u001b[39m \u001b[38;5;241m10\u001b[39m)\u001b[38;5;241m.\u001b[39mgenerate(text)\n\u001b[0;32m     43\u001b[0m     plt\u001b[38;5;241m.\u001b[39mfigure(figsize \u001b[38;5;241m=\u001b[39m (\u001b[38;5;241m8\u001b[39m, \u001b[38;5;241m8\u001b[39m), facecolor \u001b[38;5;241m=\u001b[39m \u001b[38;5;28;01mNone\u001b[39;00m) \n\u001b[0;32m     44\u001b[0m     plt\u001b[38;5;241m.\u001b[39mimshow(wordcloud) \n",
      "\u001b[1;31mNameError\u001b[0m: name 'STOPWORDS' is not defined"
     ]
    }
   ],
   "source": [
    "import requests\n",
    "import matplotlib.pyplot as plt\n",
    "from bs4 import BeautifulSoup\n",
    "from textblob import TextBlob\n",
    "from wordcloud import WordCloud\n",
    "\n",
    "\n",
    "\n",
    "\n",
    "def getReviewsFromAmazon(url):\n",
    "    page = requests.get(url)\n",
    "    soup = BeautifulSoup(page.content, \"html.parser\")\n",
    "    reviews = soup.find_all('span', {'data-hook': 'review-body'})\n",
    "\n",
    "    review_list = []\n",
    "    for review in reviews:\n",
    "        review_list.append(review.text)\n",
    "\n",
    "    return review_list\n",
    "\n",
    "# URL de los productos en Amazon\n",
    "samsung_url = 'https://www.amazon.com/SAMSUNG-65-Inch-Class-QLED-Built/dp/B08WF4XDMF/ref=sr_1_16?crid=BRW4NVOSNSEM&keywords=samsung&qid=1647588974&sprefix=samsung+%2Caps%2C152&sr=8-16'\n",
    "sony_url = 'https://www.amazon.com/Sony-X85J-Inch-Compatibility-KD65X85J/dp/B08WJMSS8H/ref=sr_1_20?crid=3A68WA62EK63E&keywords=tcl%2B65%2Binch&qid=1647589168&sprefix=tcl%2B65%2Binch%2Caps%2C149&sr=8-20&th=1'\n",
    "\n",
    "samsung_reviews = getReviewsFromAmazon(samsung_url)\n",
    "sony_reviews = getReviewsFromAmazon(sony_url)\n",
    "\n",
    "\n",
    "def get_sentiment(review):\n",
    "    analysis = TextBlob(review)\n",
    "    return analysis.sentiment.polarity\n",
    "\n",
    "samsung_sentiments = [get_sentiment(review) for review in samsung_reviews]\n",
    "sony_sentiments = [get_sentiment(review) for review in sony_reviews]\n",
    "\n",
    "\n",
    "def generate_wordcloud(text):\n",
    "    wordcloud = WordCloud(width = 800, height = 800, \n",
    "                background_color ='white', \n",
    "                stopwords = set(STOPWORDS), \n",
    "                min_font_size = 10).generate(text)\n",
    "    \n",
    "    plt.figure(figsize = (8, 8), facecolor = None) \n",
    "    plt.imshow(wordcloud) \n",
    "    plt.axis(\"off\") \n",
    "    plt.tight_layout(pad = 0) \n",
    "\n",
    "    plt.show() \n",
    "\n",
    "samsung_text = ' '.join(samsung_reviews)\n",
    "sony_text = ' '.join(sony_reviews)\n",
    "\n",
    "generate_wordcloud(samsung_text)\n",
    "generate_wordcloud(sony_text)"
   ]
  },
  {
   "cell_type": "code",
   "execution_count": null,
   "id": "05357d2b-e3d2-4e61-81ec-34623cc38b52",
   "metadata": {},
   "outputs": [],
   "source": []
  }
 ],
 "metadata": {
  "kernelspec": {
   "display_name": "Python 3 (ipykernel)",
   "language": "python",
   "name": "python3"
  },
  "language_info": {
   "codemirror_mode": {
    "name": "ipython",
    "version": 3
   },
   "file_extension": ".py",
   "mimetype": "text/x-python",
   "name": "python",
   "nbconvert_exporter": "python",
   "pygments_lexer": "ipython3",
   "version": "3.10.9"
  }
 },
 "nbformat": 4,
 "nbformat_minor": 5
}
