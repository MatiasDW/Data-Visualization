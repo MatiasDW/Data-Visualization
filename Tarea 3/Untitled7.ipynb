{
 "cells": [
  {
   "cell_type": "code",
   "execution_count": 1,
   "id": "6cbfda60-4de2-4708-bbf7-ee8747352aa9",
   "metadata": {},
   "outputs": [
    {
     "ename": "SyntaxError",
     "evalue": "invalid syntax (2408781004.py, line 1)",
     "output_type": "error",
     "traceback": [
      "\u001b[1;36m  Cell \u001b[1;32mIn[1], line 1\u001b[1;36m\u001b[0m\n\u001b[1;33m    samsung_reviews = getReviewsFromAmazon(https://www.amazon.com/product-reviews/B08WF4XDMF)\u001b[0m\n\u001b[1;37m                                                ^\u001b[0m\n\u001b[1;31mSyntaxError\u001b[0m\u001b[1;31m:\u001b[0m invalid syntax\n"
     ]
    }
   ],
   "source": [
    "samsung_reviews = getReviewsFromAmazon(https://www.amazon.com/product-reviews/B08WF4XDMF)\n",
    "print(samsung_reviews)  # Imprime las reseñas recogidas\n"
   ]
  },
  {
   "cell_type": "code",
   "execution_count": 3,
   "id": "6c19b30a-f2a0-413a-8aa3-b15854e32ae8",
   "metadata": {},
   "outputs": [],
   "source": [
    "def getReviewsFromAmazon(url):\n",
    "    page = requests.get(url)\n",
    "    soup = BeautifulSoup(page.content, \"html.parser\")\n",
    "    reviews = soup.find_all('span', {'data-hook': 'review-body'})\n",
    "\n",
    "    review_list = []\n",
    "    for review in reviews:\n",
    "        review_list.append(review.text)\n",
    "\n",
    "    return review_list\n"
   ]
  },
  {
   "cell_type": "code",
   "execution_count": 4,
   "id": "bf67a403-f143-4a62-a26a-8aa8ec4aee0f",
   "metadata": {},
   "outputs": [
    {
     "ename": "NameError",
     "evalue": "name 'requests' is not defined",
     "output_type": "error",
     "traceback": [
      "\u001b[1;31m---------------------------------------------------------------------------\u001b[0m",
      "\u001b[1;31mNameError\u001b[0m                                 Traceback (most recent call last)",
      "Cell \u001b[1;32mIn[4], line 1\u001b[0m\n\u001b[1;32m----> 1\u001b[0m samsung_reviews \u001b[38;5;241m=\u001b[39m \u001b[43mgetReviewsFromAmazon\u001b[49m\u001b[43m(\u001b[49m\u001b[38;5;124;43m'\u001b[39;49m\u001b[38;5;124;43mhttps://www.amazon.com/product-reviews/B08WF4XDMF\u001b[39;49m\u001b[38;5;124;43m'\u001b[39;49m\u001b[43m)\u001b[49m\n\u001b[0;32m      2\u001b[0m \u001b[38;5;28mprint\u001b[39m(samsung_reviews)\n",
      "Cell \u001b[1;32mIn[3], line 2\u001b[0m, in \u001b[0;36mgetReviewsFromAmazon\u001b[1;34m(url)\u001b[0m\n\u001b[0;32m      1\u001b[0m \u001b[38;5;28;01mdef\u001b[39;00m \u001b[38;5;21mgetReviewsFromAmazon\u001b[39m(url):\n\u001b[1;32m----> 2\u001b[0m     page \u001b[38;5;241m=\u001b[39m \u001b[43mrequests\u001b[49m\u001b[38;5;241m.\u001b[39mget(url)\n\u001b[0;32m      3\u001b[0m     soup \u001b[38;5;241m=\u001b[39m BeautifulSoup(page\u001b[38;5;241m.\u001b[39mcontent, \u001b[38;5;124m\"\u001b[39m\u001b[38;5;124mhtml.parser\u001b[39m\u001b[38;5;124m\"\u001b[39m)\n\u001b[0;32m      4\u001b[0m     reviews \u001b[38;5;241m=\u001b[39m soup\u001b[38;5;241m.\u001b[39mfind_all(\u001b[38;5;124m'\u001b[39m\u001b[38;5;124mspan\u001b[39m\u001b[38;5;124m'\u001b[39m, {\u001b[38;5;124m'\u001b[39m\u001b[38;5;124mdata-hook\u001b[39m\u001b[38;5;124m'\u001b[39m: \u001b[38;5;124m'\u001b[39m\u001b[38;5;124mreview-body\u001b[39m\u001b[38;5;124m'\u001b[39m})\n",
      "\u001b[1;31mNameError\u001b[0m: name 'requests' is not defined"
     ]
    }
   ],
   "source": [
    "samsung_reviews = getReviewsFromAmazon('https://www.amazon.com/product-reviews/B08WF4XDMF')\n",
    "print(samsung_reviews)  # Imprime las reseñas recogidas\n"
   ]
  },
  {
   "cell_type": "code",
   "execution_count": null,
   "id": "d2f37b01-6696-425e-8620-c61f24913a11",
   "metadata": {},
   "outputs": [],
   "source": []
  }
 ],
 "metadata": {
  "kernelspec": {
   "display_name": "Python 3 (ipykernel)",
   "language": "python",
   "name": "python3"
  },
  "language_info": {
   "codemirror_mode": {
    "name": "ipython",
    "version": 3
   },
   "file_extension": ".py",
   "mimetype": "text/x-python",
   "name": "python",
   "nbconvert_exporter": "python",
   "pygments_lexer": "ipython3",
   "version": "3.10.9"
  }
 },
 "nbformat": 4,
 "nbformat_minor": 5
}
